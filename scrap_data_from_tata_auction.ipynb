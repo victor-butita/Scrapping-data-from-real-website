{
  "nbformat": 4,
  "nbformat_minor": 0,
  "metadata": {
    "colab": {
      "provenance": []
    },
    "kernelspec": {
      "name": "python3",
      "display_name": "Python 3"
    },
    "language_info": {
      "name": "python"
    }
  },
  "cells": [
    {
      "cell_type": "code",
      "execution_count": 12,
      "metadata": {
        "colab": {
          "base_uri": "https://localhost:8080/"
        },
        "id": "6eRxNKkTajpU",
        "outputId": "ce2b404e-f207-4004-f755-34d63a7a1a2d"
      },
      "outputs": [
        {
          "output_type": "stream",
          "name": "stdout",
          "text": [
            "                          TEAM FUNDS REMAINING OVERSEAS PLAYERS  TOTAL PLAYERS\n",
            "0          Chennai Super Kings    ₹1,50,00,000                 8            25\n",
            "1               Delhi Capitals    ₹4,45,00,000                 8            25\n",
            "2               Gujarat Titans    ₹4,45,00,000                 8            25\n",
            "3        Kolkata Knight Riders    ₹1,65,00,000                 8            22\n",
            "4         Lucknow Super Giants    ₹3,55,00,000                 8            25\n",
            "5               Mumbai Indians       ₹5,00,000                 8            24\n",
            "6                 Punjab Kings   ₹12,20,00,000                 7            22\n",
            "7             Rajasthan Royals    ₹3,35,00,000                 8            25\n",
            "8  Royal Challengers Bangalore    ₹1,75,00,000                 8            25\n",
            "9          Sunrisers Hyderabad    ₹6,55,00,000                 8            25\n"
          ]
        }
      ],
      "source": [
        "import requests\n",
        "import pandas as pd\n",
        "from bs4 import BeautifulSoup\n",
        "\n",
        "url = 'https://www.iplt20.com/auction'\n",
        "r = requests.get(url)\n",
        "#r\n",
        "\n",
        "soup = BeautifulSoup(r.text, 'lxml')\n",
        "\n",
        "table = soup.find('table',class_ = 'ih-td-tab auction-tbl')\n",
        "#print(table)\n",
        "header = table.find_all('th')\n",
        "#print(header)\n",
        "\n",
        "titles = []\n",
        "\n",
        "for i in header:\n",
        "  title = i.text\n",
        "  titles.append(title)\n",
        "\n",
        "#print(titles)\n",
        "\n",
        "df = pd.DataFrame(columns=titles)\n",
        "#print(df)\n",
        "\n",
        "rows = table.find_all('tr')\n",
        "for i in rows[1:]:\n",
        "  first_td = i.find_all('td')[0].find('div',class_='ih-pt-ic').text.strip()\n",
        "  data = i.find_all('td')[1:]\n",
        "  row = [tr.text for tr in data]\n",
        "  row.insert(0,first_td)\n",
        "  l = len(df)\n",
        "  df.loc[l] = row\n",
        "\n",
        "print(df)\n",
        "\n",
        "df.to_csv('IPL_auction_stats_2022.csv')"
      ]
    },
    {
      "cell_type": "code",
      "source": [],
      "metadata": {
        "id": "ae12orblcoir"
      },
      "execution_count": null,
      "outputs": []
    }
  ]
}